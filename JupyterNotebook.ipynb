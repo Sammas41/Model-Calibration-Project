{
 "cells": [
  {
   "cell_type": "code",
   "execution_count": 3,
   "metadata": {},
   "outputs": [],
   "source": [
    "import numpy as np\n",
    "from scipy.stats import norm\n",
    "import matplotlib.pyplot as plt\n",
    "\n",
    "# Inital data\n",
    "strikes = [95, 96, 97, 98, 99, 100, 101, 102, 103, 104]\n",
    "prices = [10.93, 9.55, 8.28, 7.40, 6.86, 6.58, 6.52, 6.49, 6.47, 6.46]\n",
    "risk_free_rate = 0.002\n"
   ]
  },
  {
   "cell_type": "markdown",
   "metadata": {},
   "source": [
    "## Black-Scholes price"
   ]
  },
  {
   "cell_type": "code",
   "execution_count": null,
   "metadata": {},
   "outputs": [
    {
     "name": "stdout",
     "output_type": "stream",
     "text": [
      "Price: 4.292010941409885\n",
      "Delta: 0.35325369152806296\n",
      "Gamma: 0.018581922182971666\n",
      "Vega: 37.16384436594333\n"
     ]
    }
   ],
   "source": [
    "# Black-Scholes price function\n",
    "#\n",
    "# Returns a dictionary containing the price and the greeks of the option\n",
    "def BS_price(spot, strike, time_to_maturity, r, vol):\n",
    "    d1 = (np.log(spot / strike) + (r + vol**2 / 2) * (time_to_maturity)) / (vol * np.sqrt(time_to_maturity))\n",
    "    d2 = d1 - vol * np.sqrt(time_to_maturity)\n",
    "\n",
    "    price = spot * norm.cdf(d1) - strike * np.exp(-r * (time_to_maturity)) * norm.cdf(d2)\n",
    "    delta = norm.cdf(d1)\n",
    "    gamma = norm.pdf(d1) / (vol * spot * np.sqrt(time_to_maturity))\n",
    "    vega = spot * np.sqrt(time_to_maturity) * norm.pdf(d1) \n",
    "\n",
    "    option_parameters = {'price': price, 'delta': delta, 'gamma': gamma, 'vega': vega}\n",
    "\n",
    "    return option_parameters\n",
    "\n",
    "# Test:\n",
    "test_option_par = BS_price(100, 110, 1, 0, 0.2)\n",
    "print(f'Price: { test_option_par[\"price\"] }') # Should be $4.29\n",
    "print(f'Delta: { test_option_par[\"delta\"] }') # Should be 0.353\n",
    "print(f'Gamma: { test_option_par[\"gamma\"] }') # Should be 0.019\n",
    "print(f'Vega: { test_option_par[\"vega\"] }')   # Should be 37.164"
   ]
  },
  {
   "cell_type": "markdown",
   "metadata": {},
   "source": [
    "## Implied volatility from BS price"
   ]
  },
  {
   "cell_type": "code",
   "execution_count": 10,
   "metadata": {},
   "outputs": [
    {
     "name": "stdout",
     "output_type": "stream",
     "text": [
      "Implied volatility: 0.24331750447957207\n",
      "BS price using implied vol: 6.0000000000003055   Actual price: 6.00\n"
     ]
    }
   ],
   "source": [
    "# Return the implied volatility using Newton-Raphson algorithm\n",
    "def get_implied_vol(spot, strike, time_to_maturity, r, starting_vol, market_price):\n",
    "    old_vol = 0\n",
    "    new_vol = starting_vol\n",
    "    while abs(old_vol - new_vol) > 1E-6:\n",
    "        old_vol = new_vol\n",
    "        opt_parameters = BS_price(spot, strike, time_to_maturity, r, old_vol)\n",
    "        new_vol = old_vol - (opt_parameters[\"price\"] - market_price) / opt_parameters[\"vega\"]\n",
    "    return new_vol\n",
    "\n",
    "# Test:\n",
    "test_implied_vol = get_implied_vol(100, 110, 1, 0.002, 0.2, 6.00)\n",
    "print(f'Implied volatility: {test_implied_vol}')\n",
    "test_option_par = BS_price(100, 110, 1, 0.002, test_implied_vol)\n",
    "print(f'BS price using implied vol: {test_option_par[\"price\"]}   Actual price: 6.00')"
   ]
  },
  {
   "cell_type": "markdown",
   "metadata": {},
   "source": [
    "## Implied volatility smile"
   ]
  },
  {
   "cell_type": "code",
   "execution_count": 5,
   "metadata": {},
   "outputs": [
    {
     "data": {
      "image/png": "[encoded data removed]",
      "text/plain": [
       "<Figure size 640x480 with 1 Axes>"
      ]
     },
     "metadata": {},
     "output_type": "display_data"
    }
   ],
   "source": [
    "implied_volatilites = []\n",
    "\n",
    "for i in range(len(prices)):\n",
    "    implied_volatilites.append(get_implied_vol(100, strikes[i], 1, risk_free_rate, 0.2, prices[i]))\n",
    "\n",
    "fig, ax = plt.subplots()\n",
    "ax.set_xlabel(\"Strike\")\n",
    "ax.set_ylabel(\"Implied volatility\")\n",
    "ax.set_title(\"Volatility smile from data\")\n",
    "ax.set_xticks(range(95, 105))\n",
    "ax.scatter(strikes, implied_volatilites)\n",
    "plt.show()"
   ]
  },
  {
   "cell_type": "markdown",
   "metadata": {},
   "source": [
    "## "
   ]
  }
 ],
 "metadata": {
  "kernelspec": {
   "display_name": "Python 3",
   "language": "python",
   "name": "python3"
  },
  "language_info": {
   "codemirror_mode": {
    "name": "ipython",
    "version": 3
   },
   "file_extension": ".py",
   "mimetype": "text/x-python",
   "name": "python",
   "nbconvert_exporter": "python",
   "pygments_lexer": "ipython3",
   "version": "3.11.4"
  }
 },
 "nbformat": 4,
 "nbformat_minor": 2
}
